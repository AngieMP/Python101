{
 "cells": [
  {
   "cell_type": "code",
   "execution_count": 120,
   "metadata": {},
   "outputs": [],
   "source": [
    "file1=open(\"nds.txt\",\"r\")"
   ]
  },
  {
   "cell_type": "code",
   "execution_count": 121,
   "metadata": {},
   "outputs": [],
   "source": [
    "with open(\"nds.txt\", \"r\") as file1:\n",
    "    FileContent = file1.read()"
   ]
  },
  {
   "cell_type": "code",
   "execution_count": 122,
   "metadata": {},
   "outputs": [
    {
     "name": "stdout",
     "output_type": "stream",
     "text": [
      "Hoy es noche de sexo\n"
     ]
    }
   ],
   "source": [
    "print(FileContent)"
   ]
  },
  {
   "cell_type": "code",
   "execution_count": 123,
   "metadata": {},
   "outputs": [
    {
     "data": {
      "text/plain": [
       "'nds.txt'"
      ]
     },
     "execution_count": 123,
     "metadata": {},
     "output_type": "execute_result"
    }
   ],
   "source": [
    "file1.name"
   ]
  },
  {
   "cell_type": "code",
   "execution_count": 124,
   "metadata": {},
   "outputs": [
    {
     "data": {
      "text/plain": [
       "'r'"
      ]
     },
     "execution_count": 124,
     "metadata": {},
     "output_type": "execute_result"
    }
   ],
   "source": [
    "file1.mode"
   ]
  },
  {
   "cell_type": "code",
   "execution_count": 125,
   "metadata": {},
   "outputs": [
    {
     "data": {
      "text/plain": [
       "True"
      ]
     },
     "execution_count": 125,
     "metadata": {},
     "output_type": "execute_result"
    }
   ],
   "source": [
    "file1.closed"
   ]
  },
  {
   "cell_type": "code",
   "execution_count": 161,
   "metadata": {},
   "outputs": [
    {
     "data": {
      "text/plain": [
       "True"
      ]
     },
     "execution_count": 161,
     "metadata": {},
     "output_type": "execute_result"
    }
   ],
   "source": [
    "file3=open(\"nds.txt\",\"w\")\n",
    "file3.write(\"Hola qué tal\\n\")\n",
    "file3.write(\"Soy el chico de las poesías\\n\")\n",
    "file3.write(\"Tu fiel admirador\")\n",
    "file3.close()\n",
    "file3.closed"
   ]
  },
  {
   "cell_type": "code",
   "execution_count": 162,
   "metadata": {},
   "outputs": [
    {
     "data": {
      "text/plain": [
       "True"
      ]
     },
     "execution_count": 162,
     "metadata": {},
     "output_type": "execute_result"
    }
   ],
   "source": [
    "with open(\"mb.txt\",\"w\") as file6:\n",
    "    file6.write(\"Yo te aviso\\n\")\n",
    "    file6.write(\"me gustas sin compromiso\\n\")\n",
    "    file6.write(\"con trenzas o pelo liso\")\n",
    "file6.close()\n",
    "file6.closed"
   ]
  },
  {
   "cell_type": "code",
   "execution_count": 175,
   "metadata": {},
   "outputs": [
    {
     "data": {
      "text/plain": [
       "True"
      ]
     },
     "execution_count": 175,
     "metadata": {},
     "output_type": "execute_result"
    }
   ],
   "source": [
    "linesss=[\"this is line a\\n\",\"this is line b\\n\", \"this is line c\\n\"]\n",
    "with open(\"lines.txt\",\"w\") as lines:\n",
    "    for line in linesss:\n",
    "        lines.write(line)\n",
    "lines.close()\n",
    "lines.closed"
   ]
  },
  {
   "cell_type": "code",
   "execution_count": 180,
   "metadata": {},
   "outputs": [
    {
     "data": {
      "text/plain": [
       "True"
      ]
     },
     "execution_count": 180,
     "metadata": {},
     "output_type": "execute_result"
    }
   ],
   "source": [
    "with open(\"nds.txt\",\"r\") as readfile:\n",
    "    with open(\"mb.txt\",\"w\") as writefile:\n",
    "        for line in readfile:\n",
    "            writefile.write(line)\n",
    "readfile.close()\n",
    "writefile.close()\n",
    "readfile.closed\n",
    "writefile.closed"
   ]
  },
  {
   "cell_type": "code",
   "execution_count": 182,
   "metadata": {},
   "outputs": [],
   "source": [
    "import pandas as pd"
   ]
  },
  {
   "cell_type": "code",
   "execution_count": 197,
   "metadata": {
    "scrolled": true
   },
   "outputs": [
    {
     "data": {
      "text/html": [
       "<div>\n",
       "<style scoped>\n",
       "    .dataframe tbody tr th:only-of-type {\n",
       "        vertical-align: middle;\n",
       "    }\n",
       "\n",
       "    .dataframe tbody tr th {\n",
       "        vertical-align: top;\n",
       "    }\n",
       "\n",
       "    .dataframe thead th {\n",
       "        text-align: right;\n",
       "    }\n",
       "</style>\n",
       "<table border=\"1\" class=\"dataframe\">\n",
       "  <thead>\n",
       "    <tr style=\"text-align: right;\">\n",
       "      <th></th>\n",
       "      <th></th>\n",
       "      <th>Padrón</th>\n",
       "      <th>Unnamed: 1</th>\n",
       "      <th>Unnamed: 2</th>\n",
       "      <th>Unnamed: 3</th>\n",
       "      <th>Unnamed: 4</th>\n",
       "      <th>Unnamed: 5</th>\n",
       "      <th>Unnamed: 6</th>\n",
       "      <th>Unnamed: 7</th>\n",
       "      <th>Unnamed: 8</th>\n",
       "      <th>Unnamed: 9</th>\n",
       "      <th>Unnamed: 10</th>\n",
       "      <th>Unnamed: 11</th>\n",
       "      <th>Unnamed: 12</th>\n",
       "      <th>Unnamed: 13</th>\n",
       "      <th>Unnamed: 14</th>\n",
       "      <th>Unnamed: 15</th>\n",
       "      <th>Unnamed: 16</th>\n",
       "      <th>Unnamed: 17</th>\n",
       "      <th>Unnamed: 18</th>\n",
       "    </tr>\n",
       "  </thead>\n",
       "  <tbody>\n",
       "    <tr>\n",
       "      <th>NaN</th>\n",
       "      <th>Población Censo 2011</th>\n",
       "      <td>2018</td>\n",
       "      <td>2017</td>\n",
       "      <td>2016</td>\n",
       "      <td>2015</td>\n",
       "      <td>2014</td>\n",
       "      <td>2013</td>\n",
       "      <td>2012</td>\n",
       "      <td>2011</td>\n",
       "      <td>NaN</td>\n",
       "      <td>NaN</td>\n",
       "      <td>NaN</td>\n",
       "      <td>NaN</td>\n",
       "      <td>NaN</td>\n",
       "      <td>NaN</td>\n",
       "      <td>NaN</td>\n",
       "      <td>NaN</td>\n",
       "      <td>NaN</td>\n",
       "      <td>NaN</td>\n",
       "      <td>NaN</td>\n",
       "    </tr>\n",
       "    <tr>\n",
       "      <th>María-Los Vélez</th>\n",
       "      <th>12180</th>\n",
       "      <td>11354</td>\n",
       "      <td>11435</td>\n",
       "      <td>11571</td>\n",
       "      <td>11691</td>\n",
       "      <td>11859</td>\n",
       "      <td>12054</td>\n",
       "      <td>12490</td>\n",
       "      <td>12688</td>\n",
       "      <td>NaN</td>\n",
       "      <td>NaN</td>\n",
       "      <td>NaN</td>\n",
       "      <td>NaN</td>\n",
       "      <td>NaN</td>\n",
       "      <td>NaN</td>\n",
       "      <td>NaN</td>\n",
       "      <td>NaN</td>\n",
       "      <td>NaN</td>\n",
       "      <td>NaN</td>\n",
       "      <td>NaN</td>\n",
       "    </tr>\n",
       "    <tr>\n",
       "      <th>Levante almeriense</th>\n",
       "      <th>81390</th>\n",
       "      <td>83353</td>\n",
       "      <td>82057</td>\n",
       "      <td>81435</td>\n",
       "      <td>81598</td>\n",
       "      <td>81997</td>\n",
       "      <td>84560</td>\n",
       "      <td>84916</td>\n",
       "      <td>84014</td>\n",
       "      <td>NaN</td>\n",
       "      <td>NaN</td>\n",
       "      <td>NaN</td>\n",
       "      <td>NaN</td>\n",
       "      <td>NaN</td>\n",
       "      <td>NaN</td>\n",
       "      <td>NaN</td>\n",
       "      <td>NaN</td>\n",
       "      <td>NaN</td>\n",
       "      <td>NaN</td>\n",
       "      <td>NaN</td>\n",
       "    </tr>\n",
       "    <tr>\n",
       "      <th>Almanzora</th>\n",
       "      <th>57695</th>\n",
       "      <td>55026</td>\n",
       "      <td>55054</td>\n",
       "      <td>55337</td>\n",
       "      <td>56447</td>\n",
       "      <td>57257</td>\n",
       "      <td>57603</td>\n",
       "      <td>59104</td>\n",
       "      <td>59954</td>\n",
       "      <td>NaN</td>\n",
       "      <td>NaN</td>\n",
       "      <td>NaN</td>\n",
       "      <td>NaN</td>\n",
       "      <td>NaN</td>\n",
       "      <td>NaN</td>\n",
       "      <td>NaN</td>\n",
       "      <td>NaN</td>\n",
       "      <td>NaN</td>\n",
       "      <td>NaN</td>\n",
       "      <td>NaN</td>\n",
       "    </tr>\n",
       "    <tr>\n",
       "      <th>Nacimiento</th>\n",
       "      <th>9170</th>\n",
       "      <td>8058</td>\n",
       "      <td>8199</td>\n",
       "      <td>8382</td>\n",
       "      <td>8709</td>\n",
       "      <td>8683</td>\n",
       "      <td>8865</td>\n",
       "      <td>9189</td>\n",
       "      <td>9388</td>\n",
       "      <td>NaN</td>\n",
       "      <td>NaN</td>\n",
       "      <td>NaN</td>\n",
       "      <td>NaN</td>\n",
       "      <td>NaN</td>\n",
       "      <td>NaN</td>\n",
       "      <td>NaN</td>\n",
       "      <td>NaN</td>\n",
       "      <td>NaN</td>\n",
       "      <td>NaN</td>\n",
       "      <td>NaN</td>\n",
       "    </tr>\n",
       "  </tbody>\n",
       "</table>\n",
       "</div>"
      ],
      "text/plain": [
       "                                        Padrón Unnamed: 1 Unnamed: 2  \\\n",
       "NaN                Población Censo 2011   2018       2017       2016   \n",
       "María-Los Vélez    12180                 11354      11435      11571   \n",
       "Levante almeriense 81390                 83353      82057      81435   \n",
       "Almanzora          57695                 55026      55054      55337   \n",
       "Nacimiento         9170                   8058       8199       8382   \n",
       "\n",
       "                                        Unnamed: 3 Unnamed: 4 Unnamed: 5  \\\n",
       "NaN                Población Censo 2011       2015       2014       2013   \n",
       "María-Los Vélez    12180                     11691      11859      12054   \n",
       "Levante almeriense 81390                     81598      81997      84560   \n",
       "Almanzora          57695                     56447      57257      57603   \n",
       "Nacimiento         9170                       8709       8683       8865   \n",
       "\n",
       "                                        Unnamed: 6 Unnamed: 7 Unnamed: 8  \\\n",
       "NaN                Población Censo 2011       2012       2011        NaN   \n",
       "María-Los Vélez    12180                     12490      12688        NaN   \n",
       "Levante almeriense 81390                     84916      84014        NaN   \n",
       "Almanzora          57695                     59104      59954        NaN   \n",
       "Nacimiento         9170                       9189       9388        NaN   \n",
       "\n",
       "                                        Unnamed: 9 Unnamed: 10 Unnamed: 11  \\\n",
       "NaN                Población Censo 2011        NaN         NaN         NaN   \n",
       "María-Los Vélez    12180                       NaN         NaN         NaN   \n",
       "Levante almeriense 81390                       NaN         NaN         NaN   \n",
       "Almanzora          57695                       NaN         NaN         NaN   \n",
       "Nacimiento         9170                        NaN         NaN         NaN   \n",
       "\n",
       "                                        Unnamed: 12 Unnamed: 13 Unnamed: 14  \\\n",
       "NaN                Población Censo 2011         NaN         NaN         NaN   \n",
       "María-Los Vélez    12180                        NaN         NaN         NaN   \n",
       "Levante almeriense 81390                        NaN         NaN         NaN   \n",
       "Almanzora          57695                        NaN         NaN         NaN   \n",
       "Nacimiento         9170                         NaN         NaN         NaN   \n",
       "\n",
       "                                        Unnamed: 15 Unnamed: 16 Unnamed: 17  \\\n",
       "NaN                Población Censo 2011         NaN         NaN         NaN   \n",
       "María-Los Vélez    12180                        NaN         NaN         NaN   \n",
       "Levante almeriense 81390                        NaN         NaN         NaN   \n",
       "Almanzora          57695                        NaN         NaN         NaN   \n",
       "Nacimiento         9170                         NaN         NaN         NaN   \n",
       "\n",
       "                                        Unnamed: 18  \n",
       "NaN                Población Censo 2011         NaN  \n",
       "María-Los Vélez    12180                        NaN  \n",
       "Levante almeriense 81390                        NaN  \n",
       "Almanzora          57695                        NaN  \n",
       "Nacimiento         9170                         NaN  "
      ]
     },
     "execution_count": 197,
     "metadata": {},
     "output_type": "execute_result"
    }
   ],
   "source": [
    "xlsx_path=\"Datos.xlsx\"\n",
    "df=pd.read_excel(\"Datos.xlsx\")\n",
    "df.head()"
   ]
  },
  {
   "cell_type": "code",
   "execution_count": 199,
   "metadata": {},
   "outputs": [],
   "source": [
    "x=df[[\"Padrón\"]]"
   ]
  },
  {
   "cell_type": "code",
   "execution_count": 212,
   "metadata": {},
   "outputs": [
    {
     "data": {
      "text/html": [
       "<div>\n",
       "<style scoped>\n",
       "    .dataframe tbody tr th:only-of-type {\n",
       "        vertical-align: middle;\n",
       "    }\n",
       "\n",
       "    .dataframe tbody tr th {\n",
       "        vertical-align: top;\n",
       "    }\n",
       "\n",
       "    .dataframe thead th {\n",
       "        text-align: right;\n",
       "    }\n",
       "</style>\n",
       "<table border=\"1\" class=\"dataframe\">\n",
       "  <thead>\n",
       "    <tr style=\"text-align: right;\">\n",
       "      <th></th>\n",
       "      <th>year</th>\n",
       "    </tr>\n",
       "  </thead>\n",
       "  <tbody>\n",
       "    <tr>\n",
       "      <th>0</th>\n",
       "      <td>1977</td>\n",
       "    </tr>\n",
       "    <tr>\n",
       "      <th>1</th>\n",
       "      <td>1982</td>\n",
       "    </tr>\n",
       "    <tr>\n",
       "      <th>2</th>\n",
       "      <td>1980</td>\n",
       "    </tr>\n",
       "    <tr>\n",
       "      <th>3</th>\n",
       "      <td>1973</td>\n",
       "    </tr>\n",
       "    <tr>\n",
       "      <th>4</th>\n",
       "      <td>1992</td>\n",
       "    </tr>\n",
       "  </tbody>\n",
       "</table>\n",
       "</div>"
      ],
      "text/plain": [
       "   year\n",
       "0  1977\n",
       "1  1982\n",
       "2  1980\n",
       "3  1973\n",
       "4  1992"
      ]
     },
     "execution_count": 212,
     "metadata": {},
     "output_type": "execute_result"
    }
   ],
   "source": [
    "import pandas as banana\n",
    "\n",
    "df=banana.DataFrame({'year':[1977,1982,1980,1973,1992,1977,1976,1977]})\n",
    "\n",
    "df.head()\n"
   ]
  },
  {
   "cell_type": "code",
   "execution_count": 213,
   "metadata": {},
   "outputs": [
    {
     "data": {
      "text/plain": [
       "0    1977\n",
       "1    1982\n",
       "2    1980\n",
       "3    1973\n",
       "4    1992\n",
       "5    1977\n",
       "6    1976\n",
       "7    1977\n",
       "Name: year, dtype: int64"
      ]
     },
     "execution_count": 213,
     "metadata": {},
     "output_type": "execute_result"
    }
   ],
   "source": [
    "df[\"year\"]"
   ]
  },
  {
   "cell_type": "code",
   "execution_count": 215,
   "metadata": {},
   "outputs": [
    {
     "data": {
      "text/plain": [
       "array([1977, 1982, 1980, 1973, 1992, 1976], dtype=int64)"
      ]
     },
     "execution_count": 215,
     "metadata": {},
     "output_type": "execute_result"
    }
   ],
   "source": [
    "df[\"year\"].unique()"
   ]
  },
  {
   "cell_type": "code",
   "execution_count": 216,
   "metadata": {},
   "outputs": [
    {
     "data": {
      "text/plain": [
       "0    False\n",
       "1     True\n",
       "2     True\n",
       "3    False\n",
       "4     True\n",
       "5    False\n",
       "6    False\n",
       "7    False\n",
       "Name: year, dtype: bool"
      ]
     },
     "execution_count": 216,
     "metadata": {},
     "output_type": "execute_result"
    }
   ],
   "source": [
    "df[\"year\"]>=1980"
   ]
  },
  {
   "cell_type": "code",
   "execution_count": 219,
   "metadata": {},
   "outputs": [],
   "source": [
    "df1=df[df[\"year\"]>=1980]"
   ]
  },
  {
   "cell_type": "code",
   "execution_count": 220,
   "metadata": {},
   "outputs": [],
   "source": [
    "df1.to_csv(\"year80.csv\")"
   ]
  }
 ],
 "metadata": {
  "kernelspec": {
   "display_name": "Python 3",
   "language": "python",
   "name": "python3"
  },
  "language_info": {
   "codemirror_mode": {
    "name": "ipython",
    "version": 3
   },
   "file_extension": ".py",
   "mimetype": "text/x-python",
   "name": "python",
   "nbconvert_exporter": "python",
   "pygments_lexer": "ipython3",
   "version": "3.7.1"
  }
 },
 "nbformat": 4,
 "nbformat_minor": 2
}
